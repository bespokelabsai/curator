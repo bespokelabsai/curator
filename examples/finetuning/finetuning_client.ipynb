{
 "cells": [
  {
   "cell_type": "markdown",
   "metadata": {},
   "source": [
    "### Setting up the finetuning job"
   ]
  },
  {
   "cell_type": "code",
   "execution_count": null,
   "metadata": {
    "vscode": {
     "languageId": "plaintext"
    }
   },
   "outputs": [],
   "source": [
    "from bespokelabs import curator"
   ]
  },
  {
   "cell_type": "code",
   "execution_count": null,
   "metadata": {
    "vscode": {
     "languageId": "plaintext"
    }
   },
   "outputs": [],
   "source": [
    "finetuning_client = curator.Finetune(\n",
    "    backend = \"bespoke\",\n",
    "    backend_params = {\n",
    "        \"base_url\": 'https://api-dev.bespokelabs.ai'\n",
    "    }\n",
    ")"
   ]
  },
  {
   "cell_type": "code",
   "execution_count": null,
   "metadata": {
    "vscode": {
     "languageId": "plaintext"
    }
   },
   "outputs": [],
   "source": [
    "dataset_id = \"41da7b9b3e384ae486a9945376d2fd9c\""
   ]
  },
  {
   "cell_type": "code",
   "execution_count": null,
   "metadata": {
    "vscode": {
     "languageId": "plaintext"
    }
   },
   "outputs": [],
   "source": [
    "finetuning_client.create_job(\n",
    "    model_name=\"Qwen/Qwen2.5-7B-Instruct\",\n",
    "    job_name=\"bespoke-devrev-demo-live\",\n",
    "    dataset_id=dataset_id,\n",
    "    seed=42,\n",
    "    suffix=\"ft\",\n",
    "    method = {\n",
    "        \"type\": \"supervised\",\n",
    "        \"hyperparameters\": {\n",
    "            ## Type\n",
    "            \"finetuning_type\": \"lora\",\n",
    "            \"lora_rank\": 16,\n",
    "\n",
    "            ## training dynamics\n",
    "            \"learning_rate\": 0.0001,\n",
    "            \"num_train_epochs\": 1,\n",
    "            \"per_device_train_batch_size\": 4,\n",
    "            \"gradient_accumulation_steps\": 1,\n",
    "\n",
    "            ## infra\n",
    "            \"preprocessing_num_workers\": 32,\n",
    "            \"dataloader_num_workers\": 16,\n",
    "            \"logging_steps\": 1,\n",
    "        }\n",
    "    },\n",
    "    num_gpus=8\n",
    ")"
   ]
  },
  {
   "cell_type": "markdown",
   "metadata": {},
   "source": [
    "### Deploying the finetuned model"
   ]
  },
  {
   "cell_type": "markdown",
   "metadata": {},
   "source": [
    "models_client = curator.Models(\n",
    "    backend = \"bespoke\",\n",
    "    backend_params = {\n",
    "        \"base_url\": 'https://api-dev.bespokelabs.ai'\n",
    "    }\n",
    ")"
   ]
  },
  {
   "cell_type": "markdown",
   "metadata": {},
   "source": [
    "models_client.list_models(job_id='d3201c37255247c2825ff4ce52c110d6')"
   ]
  },
  {
   "cell_type": "code",
   "execution_count": null,
   "metadata": {
    "vscode": {
     "languageId": "plaintext"
    }
   },
   "outputs": [],
   "source": [
    "models_client.deploy_model(model_id = '10426763-76be-483e-987b-07d2ee5adbd7')"
   ]
  }
 ],
 "metadata": {
  "language_info": {
   "name": "python"
  }
 },
 "nbformat": 4,
 "nbformat_minor": 2
}
